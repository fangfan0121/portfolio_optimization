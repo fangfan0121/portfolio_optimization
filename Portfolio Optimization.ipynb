{
 "cells": [
  {
   "cell_type": "code",
   "execution_count": null,
   "metadata": {},
   "outputs": [],
   "source": [
    "\"\"\"\n",
    "    -- Description:\n",
    "        \n",
    "        (1) Conduct Convex Optimization for portfolio optimization (target: maximize Sharpe Ratio)\n",
    "        \n",
    "        (2) Draw the efficient frontier for the portfolio (target: given return, minimize volatility)\n",
    "        \n",
    "    -- Prerequisite:\n",
    "        \n",
    "        Quandl API Key\n",
    "        \n",
    "    -- Auther:\n",
    "        \n",
    "        Fang Fan (Roy)\n",
    "        \n",
    "    -- Date:\n",
    "        \n",
    "        August 23, 2020\n",
    "    \n",
    "\"\"\""
   ]
  },
  {
   "cell_type": "code",
   "execution_count": 1,
   "metadata": {},
   "outputs": [],
   "source": [
    "import pandas as pd\n",
    "import numpy as np\n",
    "import matplotlib.pyplot as plt\n",
    "import matplotlib.lines as mlines\n",
    "import seaborn as sns\n",
    "import quandl\n",
    "\n",
    "%matplotlib inline\n",
    "quandl.ApiConfig.api_key = \"okePP6eysAeuyx8BnX7k\"\n",
    "sns.set()"
   ]
  },
  {
   "cell_type": "markdown",
   "metadata": {},
   "source": [
    "## Load Historical Equities Data"
   ]
  },
  {
   "cell_type": "code",
   "execution_count": 2,
   "metadata": {},
   "outputs": [],
   "source": [
    "def load_historical_equity_data(ticker, start, end):\n",
    "    try:\n",
    "        return quandl.get(\"WIKI/{}.11\".format(ticker), start_date=start, end_date=end)[\"Adj. Close\"]\n",
    "    except:\n",
    "        print(\"Data loading for '{}' failed.\".format(ticker))\n",
    "        return None\n",
    "        "
   ]
  },
  {
   "cell_type": "code",
   "execution_count": 3,
   "metadata": {},
   "outputs": [
    {
     "data": {
      "text/html": [
       "<div>\n",
       "<style scoped>\n",
       "    .dataframe tbody tr th:only-of-type {\n",
       "        vertical-align: middle;\n",
       "    }\n",
       "\n",
       "    .dataframe tbody tr th {\n",
       "        vertical-align: top;\n",
       "    }\n",
       "\n",
       "    .dataframe thead th {\n",
       "        text-align: right;\n",
       "    }\n",
       "</style>\n",
       "<table border=\"1\" class=\"dataframe\">\n",
       "  <thead>\n",
       "    <tr style=\"text-align: right;\">\n",
       "      <th></th>\n",
       "      <th>AAPL</th>\n",
       "      <th>AXP</th>\n",
       "      <th>BA</th>\n",
       "      <th>CAT</th>\n",
       "      <th>CSCO</th>\n",
       "      <th>CVX</th>\n",
       "      <th>DIS</th>\n",
       "    </tr>\n",
       "    <tr>\n",
       "      <th>Date</th>\n",
       "      <th></th>\n",
       "      <th></th>\n",
       "      <th></th>\n",
       "      <th></th>\n",
       "      <th></th>\n",
       "      <th></th>\n",
       "      <th></th>\n",
       "    </tr>\n",
       "  </thead>\n",
       "  <tbody>\n",
       "    <tr>\n",
       "      <th>2012-01-03</th>\n",
       "      <td>52.848787</td>\n",
       "      <td>44.396879</td>\n",
       "      <td>63.682364</td>\n",
       "      <td>78.482928</td>\n",
       "      <td>15.617341</td>\n",
       "      <td>88.744198</td>\n",
       "      <td>35.569102</td>\n",
       "    </tr>\n",
       "    <tr>\n",
       "      <th>2012-01-04</th>\n",
       "      <td>53.132802</td>\n",
       "      <td>44.424403</td>\n",
       "      <td>63.776746</td>\n",
       "      <td>79.209467</td>\n",
       "      <td>15.919125</td>\n",
       "      <td>88.591427</td>\n",
       "      <td>36.070468</td>\n",
       "    </tr>\n",
       "    <tr>\n",
       "      <th>2012-01-05</th>\n",
       "      <td>53.722681</td>\n",
       "      <td>44.940109</td>\n",
       "      <td>63.090329</td>\n",
       "      <td>79.768986</td>\n",
       "      <td>15.860445</td>\n",
       "      <td>87.723041</td>\n",
       "      <td>36.673963</td>\n",
       "    </tr>\n",
       "    <tr>\n",
       "      <th>2012-01-06</th>\n",
       "      <td>54.284287</td>\n",
       "      <td>44.452030</td>\n",
       "      <td>63.476439</td>\n",
       "      <td>79.969410</td>\n",
       "      <td>15.801764</td>\n",
       "      <td>87.087833</td>\n",
       "      <td>37.054630</td>\n",
       "    </tr>\n",
       "    <tr>\n",
       "      <th>2012-01-09</th>\n",
       "      <td>54.198183</td>\n",
       "      <td>44.562539</td>\n",
       "      <td>63.948350</td>\n",
       "      <td>81.088448</td>\n",
       "      <td>15.902359</td>\n",
       "      <td>88.036625</td>\n",
       "      <td>36.906077</td>\n",
       "    </tr>\n",
       "  </tbody>\n",
       "</table>\n",
       "</div>"
      ],
      "text/plain": [
       "                 AAPL        AXP         BA        CAT       CSCO        CVX  \\\n",
       "Date                                                                           \n",
       "2012-01-03  52.848787  44.396879  63.682364  78.482928  15.617341  88.744198   \n",
       "2012-01-04  53.132802  44.424403  63.776746  79.209467  15.919125  88.591427   \n",
       "2012-01-05  53.722681  44.940109  63.090329  79.768986  15.860445  87.723041   \n",
       "2012-01-06  54.284287  44.452030  63.476439  79.969410  15.801764  87.087833   \n",
       "2012-01-09  54.198183  44.562539  63.948350  81.088448  15.902359  88.036625   \n",
       "\n",
       "                  DIS  \n",
       "Date                   \n",
       "2012-01-03  35.569102  \n",
       "2012-01-04  36.070468  \n",
       "2012-01-05  36.673963  \n",
       "2012-01-06  37.054630  \n",
       "2012-01-09  36.906077  "
      ]
     },
     "execution_count": 3,
     "metadata": {},
     "output_type": "execute_result"
    }
   ],
   "source": [
    "tickers = [\"AAPL\", \"AXP\", \"BA\", \"CAT\", \"CSCO\", \"CVX\", \"DIS\"]\n",
    "\n",
    "start = pd.to_datetime(\"2012-01-01\")\n",
    "end = pd.to_datetime(\"2018-01-01\")\n",
    "\n",
    "df_equity = pd.DataFrame()\n",
    "for ticker in tickers:\n",
    "    df_equity[ticker] = load_historical_equity_data(ticker, start, end)\n",
    "\n",
    "df_equity.head()"
   ]
  },
  {
   "cell_type": "markdown",
   "metadata": {},
   "source": [
    "## Log Returns"
   ]
  },
  {
   "cell_type": "code",
   "execution_count": 4,
   "metadata": {},
   "outputs": [],
   "source": [
    "df_ret = np.log(df_equity / df_equity.shift(1)).dropna()"
   ]
  },
  {
   "cell_type": "code",
   "execution_count": 5,
   "metadata": {},
   "outputs": [
    {
     "data": {
      "image/png": "[encoded data removed]",
      "text/plain": [
       "<Figure size 720x360 with 1 Axes>"
      ]
     },
     "metadata": {
      "needs_background": "light"
     },
     "output_type": "display_data"
    }
   ],
   "source": [
    "df_ret.plot(kind=\"kde\", figsize=(10, 5))\n",
    "\n",
    "plt.title(\"Daily Log-Returns KDE\")\n",
    "plt.tight_layout()"
   ]
  },
  {
   "cell_type": "markdown",
   "metadata": {},
   "source": [
    "## Portfolio Optimization  |  Target: Maximal Sharpe Ratio"
   ]
  },
  {
   "cell_type": "code",
   "execution_count": 6,
   "metadata": {},
   "outputs": [],
   "source": [
    "from scipy.optimize import minimize"
   ]
  },
  {
   "cell_type": "code",
   "execution_count": 7,
   "metadata": {},
   "outputs": [],
   "source": [
    "def get_portfolio_return_volatility_sharpe_ratio(weights):\n",
    "    '''\n",
    "    -- Desc\n",
    "        \n",
    "        Calculate the annualized log return, volatility and Sharpe Ratio for the portfolio.\n",
    "        \n",
    "        We assume that the risk free rate is zero, for simplicity.\n",
    "        \n",
    "    -- Return\n",
    "        \n",
    "        Tuple of annualized (log return, volatility, sharp ratio)\n",
    "        \n",
    "    '''\n",
    "    weights = np.array(weights)\n",
    "    log_ret = np.sum(df_ret.mean(axis=0) * weights) * 252\n",
    "    volatility = np.sqrt(np.dot(weights, np.dot(df_ret.cov(), weights))) * np.sqrt(252)\n",
    "    sr = log_ret / volatility\n",
    "    \n",
    "    return (log_ret, volatility, sr)"
   ]
  },
  {
   "cell_type": "code",
   "execution_count": 8,
   "metadata": {},
   "outputs": [],
   "source": [
    "def target_func(weights):\n",
    "    '''\n",
    "        Optimization target: Find maximal SR, i.e. minimal (-SR)\n",
    "    '''\n",
    "    return get_portfolio_return_volatility_sharpe_ratio(weights)[2] * (-1)\n",
    "    "
   ]
  },
  {
   "cell_type": "code",
   "execution_count": 9,
   "metadata": {},
   "outputs": [],
   "source": [
    "def check_sum(weights):\n",
    "    '''\n",
    "        The weights of instruments in the portfolio should add up to 1\n",
    "    '''\n",
    "    return np.sum(weights) - 1"
   ]
  },
  {
   "cell_type": "code",
   "execution_count": 10,
   "metadata": {},
   "outputs": [],
   "source": [
    "# We won't consider short positions\n",
    "bounds = tuple((0,1) for _ in tickers)\n",
    "\n",
    "constraints = ({\"type\":\"eq\", \"fun\": check_sum})\n",
    "init_guess = [1/len(tickers)] * len(tickers)"
   ]
  },
  {
   "cell_type": "markdown",
   "metadata": {},
   "source": [
    "## Optimized Portfolio Breakdown"
   ]
  },
  {
   "cell_type": "code",
   "execution_count": 11,
   "metadata": {},
   "outputs": [],
   "source": [
    "opt_results = minimize(target_func, \n",
    "                       init_guess, \n",
    "                       method=\"SLSQP\", \n",
    "                       bounds=bounds, \n",
    "                       constraints=constraints)"
   ]
  },
  {
   "cell_type": "code",
   "execution_count": 12,
   "metadata": {},
   "outputs": [
    {
     "name": "stdout",
     "output_type": "stream",
     "text": [
      "Optimal Sharpe Ratio for the portfolio is 1.410939\n",
      "\n",
      "Weight(AAPL) : 15.3741%\n",
      "Weight(AXP) : 0.6238%\n",
      "Weight(BA) : 47.8689%\n",
      "Weight(CAT) : 0.0%\n",
      "Weight(CSCO) : 5.6098%\n",
      "Weight(CVX) : 0.0%\n",
      "Weight(DIS) : 30.5234%\n"
     ]
    }
   ],
   "source": [
    "print(\"Optimal Sharpe Ratio for the portfolio is {}\\n\".format(round(-opt_results[\"fun\"],6)))\n",
    "\n",
    "for i, ticker in enumerate(tickers):\n",
    "    print(\"Weight({}) : {}%\".format(ticker, round(opt_results[\"x\"][i]*100, 4)))"
   ]
  },
  {
   "cell_type": "markdown",
   "metadata": {},
   "source": [
    "## Efficient Frontier (given each return, find minimal volatility)"
   ]
  },
  {
   "cell_type": "code",
   "execution_count": 13,
   "metadata": {},
   "outputs": [],
   "source": [
    "ef_ret = np.linspace(0.075, 0.25, 300)"
   ]
  },
  {
   "cell_type": "code",
   "execution_count": 14,
   "metadata": {},
   "outputs": [],
   "source": [
    "def target_func_2(weights):\n",
    "    '''\n",
    "        The optimization target is to find minimal volatility, given the return\n",
    "    '''\n",
    "    return get_portfolio_return_volatility_sharpe_ratio(weights)[1]"
   ]
  },
  {
   "cell_type": "code",
   "execution_count": 15,
   "metadata": {},
   "outputs": [],
   "source": [
    "ef_vol = []\n",
    "for ret in ef_ret:\n",
    "    def check_sum_2(weights):\n",
    "        return np.sum(df_ret.mean(axis=0)*weights) * 252 - ret\n",
    "    \n",
    "    bounds = tuple((0,1) for _ in tickers)\n",
    "    constraints = ({\"type\":\"eq\", \"fun\":check_sum},\n",
    "                   {\"type\":\"eq\", \"fun\":check_sum_2})\n",
    "    init_guess = [1/len(tickers)] * len(tickers)\n",
    "    \n",
    "    result = minimize(target_func_2, init_guess, method=\"SLSQP\", bounds=bounds, constraints=constraints)\n",
    "    ef_vol.append(result[\"fun\"])"
   ]
  },
  {
   "cell_type": "code",
   "execution_count": 16,
   "metadata": {},
   "outputs": [
    {
     "data": {
      "text/plain": [
       "<matplotlib.collections.PathCollection at 0x7f5ae85e66a0>"
      ]
     },
     "execution_count": 16,
     "metadata": {},
     "output_type": "execute_result"
    },
    {
     "data": {
      "image/png": "[encoded data removed]",
      "text/plain": [
       "<Figure size 864x576 with 1 Axes>"
      ]
     },
     "metadata": {
      "needs_background": "light"
     },
     "output_type": "display_data"
    }
   ],
   "source": [
    "opt_ret, opt_vol, opt_sr = get_portfolio_return_volatility_sharpe_ratio(opt_results[\"x\"])\n",
    "\n",
    "fig = plt.figure(figsize=(12, 8))\n",
    "plt.xlim((0.05 ,0.3))\n",
    "plt.ylim((0.06 ,0.25))\n",
    "\n",
    "plt.xlabel(\"Volatility\")\n",
    "plt.ylabel(\"Return\")\n",
    "\n",
    "\n",
    "plt.plot(ef_vol, ef_ret, ls=\"-\", lw=3, c=\"green\")\n",
    "ax = plt.gca()\n",
    "ax.add_line(mlines.Line2D([0,2*opt_vol], [0,2*opt_ret], ls=\"--\"))\n",
    "plt.scatter(opt_vol, opt_ret, c=\"red\")\n"
   ]
  },
  {
   "cell_type": "code",
   "execution_count": null,
   "metadata": {},
   "outputs": [],
   "source": []
  }
 ],
 "metadata": {
  "kernelspec": {
   "display_name": "zipline",
   "language": "python",
   "name": "zipline"
  },
  "language_info": {
   "codemirror_mode": {
    "name": "ipython",
    "version": 3
   },
   "file_extension": ".py",
   "mimetype": "text/x-python",
   "name": "python",
   "nbconvert_exporter": "python",
   "pygments_lexer": "ipython3",
   "version": "3.5.6"
  }
 },
 "nbformat": 4,
 "nbformat_minor": 4
}
